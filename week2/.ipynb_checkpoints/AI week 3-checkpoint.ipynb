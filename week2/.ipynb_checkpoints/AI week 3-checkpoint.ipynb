{
 "cells": [
  {
   "cell_type": "code",
   "execution_count": 1,
   "metadata": {},
   "outputs": [],
   "source": [
    "map_dict = dict({'ara':['zer','tim','sib'],'sib':['ora','fag','rim'],'tim':['ara','lug'],'lug':['tim','meh'],'meh':['lug','dob'],\n",
    "                 'dob':['meh','cra'],'cra':['dob','rim','pit'],'rim':['cra','pit','sib'],'pit':['rim','cra','buc'],'fag':['sib','buc'],\n",
    "                 'zer':['ara','ora'],'ora':['zer','sib']})"
   ]
  },
  {
   "cell_type": "code",
   "execution_count": 2,
   "metadata": {},
   "outputs": [
    {
     "name": "stdout",
     "output_type": "stream",
     "text": [
      "['zer', 'tim', 'sib']\n"
     ]
    }
   ],
   "source": [
    "class State:\n",
    "    \n",
    "    def __init__(self, name):\n",
    "        self.name = name\n",
    "    \n",
    "    def get_child(self):\n",
    "        return map_dict[self.name]\n",
    "    \n",
    "    def check_goal(self):\n",
    "        if self.name == 'buc':\n",
    "            return True\n",
    "        return False\n",
    "    \n",
    "init_state = State(name='ara')\n",
    "print(init_state.get_child())"
   ]
  },
  {
   "cell_type": "code",
   "execution_count": 3,
   "metadata": {},
   "outputs": [
    {
     "name": "stdout",
     "output_type": "stream",
     "text": [
      "ara\n",
      "zer\n",
      "tim\n",
      "sib\n",
      "ara\n",
      "ora\n",
      "ara\n",
      "lug\n",
      "ora\n",
      "fag\n",
      "rim\n",
      "zer\n",
      "tim\n",
      "sib\n",
      "zer\n",
      "sib\n",
      "zer\n",
      "tim\n",
      "sib\n",
      "tim\n",
      "meh\n",
      "zer\n",
      "sib\n",
      "sib\n",
      "buc\n",
      "finish ...\n"
     ]
    }
   ],
   "source": [
    "\n",
    "fringe = [init_state] \n",
    "\n",
    "def search():\n",
    "    global fringe\n",
    "    # step 1: lấy phần tử đầu (tức trạng thái), gọi là A, từ fringe\n",
    "    # step 2: kiểm tra a có phải trạng thái đích không \n",
    "    # nếu là A là trạng thái đích thì dừng, in kết quả\n",
    "    # nếu A khhoong là đích -> next\n",
    "    # step 3: mở rộng trạng thái từ A, đưa vào fringe\n",
    "    # step 4: nếu fringe rỗng => kết luận không tìm được đích (break)\n",
    "            # nếu không rỗng => quay lại sờ tép one\n",
    "    while(True):\n",
    "        for key, item in map_dict.items():\n",
    "            fringe.append(State(name=key))\n",
    "        \n",
    "#         state = fringe.pop(0)\n",
    "#         print(state.name)\n",
    "#         if state.check_goal():\n",
    "#             #in ket qua \n",
    "#             print('finish ...')\n",
    "#             return  \n",
    "        next_state = state.get_child()\n",
    "        for item in next_state:\n",
    "            new_state = State(name=item)\n",
    "            fringe.append(new_state)\n",
    "\n",
    "    \n",
    "search()"
   ]
  },
  {
   "cell_type": "code",
   "execution_count": null,
   "metadata": {},
   "outputs": [],
   "source": []
  }
 ],
 "metadata": {
  "kernelspec": {
   "display_name": "Python 3",
   "language": "python",
   "name": "python3"
  },
  "language_info": {
   "codemirror_mode": {
    "name": "ipython",
    "version": 3
   },
   "file_extension": ".py",
   "mimetype": "text/x-python",
   "name": "python",
   "nbconvert_exporter": "python",
   "pygments_lexer": "ipython3",
   "version": "3.7.5"
  }
 },
 "nbformat": 4,
 "nbformat_minor": 2
}
