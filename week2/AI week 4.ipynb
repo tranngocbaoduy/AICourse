{
 "cells": [
  {
   "cell_type": "markdown",
   "metadata": {},
   "source": [
    "# Uniform search"
   ]
  },
  {
   "cell_type": "code",
   "execution_count": 2,
   "metadata": {},
   "outputs": [
    {
     "name": "stdout",
     "output_type": "stream",
     "text": [
      "/bin/sh: -c: line 0: syntax error near unexpected token `'map''\r\n",
      "/bin/sh: -c: line 0: `[title]('map')'\r\n"
     ]
    }
   ],
   "source": [
    "![title]('map.png')\n",
    "map_dict = dict({'ara':['zer','tim','sib'],'sib':['ora','fag','rim'],'tim':['ara','lug'],'lug':['tim','meh'],'meh':['lug','dob'],\n",
    "                 'dob':['meh','cra'],'cra':['dob','rim','pit'],'rim':['cra','pit','sib'],'pit':['rim','cra','buc'],'fag':['sib','buc'],\n",
    "                 'zer':['ara','ora'],'ora':['zer','sib']})"
   ]
  },
  {
   "cell_type": "code",
   "execution_count": null,
   "metadata": {},
   "outputs": [],
   "source": []
  }
 ],
 "metadata": {
  "kernelspec": {
   "display_name": "Python 3",
   "language": "python",
   "name": "python3"
  },
  "language_info": {
   "codemirror_mode": {
    "name": "ipython",
    "version": 3
   },
   "file_extension": ".py",
   "mimetype": "text/x-python",
   "name": "python",
   "nbconvert_exporter": "python",
   "pygments_lexer": "ipython3",
   "version": "3.7.5"
  }
 },
 "nbformat": 4,
 "nbformat_minor": 2
}
