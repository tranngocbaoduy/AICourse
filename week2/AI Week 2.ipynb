{
 "cells": [
  {
   "cell_type": "code",
   "execution_count": 9,
   "metadata": {},
   "outputs": [
    {
     "name": "stdout",
     "output_type": "stream",
     "text": [
      "2\n",
      "3\n",
      "5\n"
     ]
    }
   ],
   "source": [
    "# nhập vào 1 số nguyên n, tìm tất cả các số nguyên tố n\n",
    "\n",
    "\n",
    "\n",
    "def snt(n):\n",
    "    for i in range(2,int(n)):\n",
    "        if n % i == 0:\n",
    "            return False\n",
    "    return True\n",
    "def find(n):\n",
    "    if n == 2: print(n)\n",
    "    else: \n",
    "        for i in range(2, n):\n",
    "            if snt(i):\n",
    "                print(i)\n",
    "            \n",
    "            \n",
    "            \n",
    "find(6)"
   ]
  },
  {
   "cell_type": "code",
   "execution_count": 28,
   "metadata": {},
   "outputs": [
    {
     "name": "stdout",
     "output_type": "stream",
     "text": [
      "[1, 1, 1, 2, 3, 3, 4, 6, 6, 7, 12, 12, 13, 34, 42, 52, 67] [67, 52, 42, 34, 13, 12, 12, 7, 6, 6, 4, 3, 3, 2, 1, 1, 1]\n",
      "[1, 2, 3, 4, 5, 6, 7, 8, 9, 10, 11, 12, 13, 14, 15, 16, 17, 18, 19, 20, 21, 22, 23, 24, 25, 26, 27, 28, 29, 30, 31, 32, 33, 34, 35, 36, 37, 38, 39, 40, 41, 42, 43, 44, 45, 46, 47, 48, 49, 50, 51, 52, 53, 54, 55, 56, 57, 58, 59, 60, 61, 62, 63, 64, 65, 66, 67, 68, 69, 70, 71, 72, 73, 74, 75, 76, 77, 78, 79, 80, 81, 82, 83, 84, 85, 86, 87, 88, 89, 90, 91, 92, 93, 94, 95, 96, 97, 98, 99]\n"
     ]
    }
   ],
   "source": [
    "# sắp xếp 1 mảng theo thứ tự tăng dần, giảm dần\n",
    "\n",
    "a = [1,4,1,2,6,7,3,6,1,34,3,12,42,12,52,13,67]\n",
    "\n",
    "sort1 = sorted(a)\n",
    "sort2 = sorted(a, reverse=True)\n",
    "print(sort1, sort2)\n",
    "\n",
    "# print(a)\n",
    "# Khai báo 1  mảng 100 phần tử tính tổng các số lẻ\n",
    "arr = [ i for i in range(1,100)]\n",
    "print(arr)"
   ]
  },
  {
   "cell_type": "code",
   "execution_count": 46,
   "metadata": {},
   "outputs": [
    {
     "name": "stdout",
     "output_type": "stream",
     "text": [
      "[3, 28, 81, 79, 90, 23, 5, 33, 71, 27, 10, 2, 48, 85, 72, 44, 16, 62, 34, 61, 92, 63, 86, 41, 15, 76, 24, 64, 25, 39, 18, 97, 4, 69, 40, 35, 98, 12, 83, 66, 84, 96, 52, 99, 59, 32, 53, 88, 31, 17, 94, 93, 74, 1, 82, 8, 45, 21, 80, 67, 91, 100, 20, 58, 95, 30, 77, 51, 89, 50, 70, 13, 65, 57, 46, 56, 87, 60, 26, 75, 11, 19, 54, 38, 68, 43, 9, 42, 78, 47, 49, 37, 22, 29, 55, 36, 7, 14, 73, 6]\n",
      "[50, 61, 65, 81, 81, 39, 1, 92, 32, 35, 71, 67, 97, 74, 11, 90, 73, 2, 93, 69, 26, 87, 1, 89, 22, 21, 11, 40, 95, 49, 47, 52, 23, 65, 29, 59, 58, 99, 33, 94, 88, 23, 76, 18, 72, 34, 85, 59, 24, 75, 75, 6, 44, 23, 20, 25, 98, 100, 73, 79, 61, 74, 53, 28, 46, 21, 28, 55, 13, 99, 42, 62, 99, 75, 56, 22, 28, 20, 37, 59, 39, 31, 49, 20, 67, 82, 33, 80, 5, 100, 42, 90, 83, 57, 2, 15, 21, 1, 29]\n",
      "[71, 57, 38, 93, 65, 80, 11, 23, 43, 63, 30, 45, 70, 76, 1, 98, 17, 75, 52, 96, 85, 86, 36, 94, 25, 83, 7, 77, 72, 67, 91, 15, 48, 73, 51, 13, 4, 31, 97, 58, 21, 12, 42, 59, 16, 37, 62, 69, 89, 74, 33, 6, 95, 41, 5, 84, 22, 10, 44, 53, 49, 99, 47, 92, 61, 29, 60, 79, 82, 50, 66, 81, 40, 56, 27, 18, 34, 20, 54, 28, 14, 88, 9, 35, 55, 68, 3, 32, 26, 87, 90, 2, 8, 46, 64, 24, 19, 39, 78]\n"
     ]
    }
   ],
   "source": [
    "import random \n",
    "\n",
    "arr = random.sample(range(1,101),100)\n",
    "print(arr)\n",
    "arr = [ random.randint(1,100) for i in range(1,100)]\n",
    "print(arr)\n",
    "arr = [i for i in range (1,100)]\n",
    "random.shuffle(arr)\n",
    "print(arr)"
   ]
  },
  {
   "cell_type": "code",
   "execution_count": null,
   "metadata": {},
   "outputs": [],
   "source": [
    "\n",
    "class Rectangle:\n",
    "    \n",
    "    def __init__(self,width, length):\n",
    "        self.width = width\n",
    "        self.length = length\n",
    "        \n",
    "    def area():\n",
    "        return self.width*self.length\n",
    "\n",
    "\n"
   ]
  },
  {
   "cell_type": "code",
   "execution_count": 3,
   "metadata": {},
   "outputs": [
    {
     "name": "stdout",
     "output_type": "stream",
     "text": [
      "{('A', 'F'): 1, ('A', 'E'): 25, ('A', 'B'): 3, ('B', 'C'): 2, ('C', 'D'): 7, ('C', 'E'): 6, ('D', 'E'): 8, ('E', 'F'): 4}\n",
      "F\n",
      "E\n",
      "B\n"
     ]
    }
   ],
   "source": [
    "class Graph:\n",
    "    \n",
    "    def __init__(self):\n",
    "        self.graph = dict()\n",
    "        \n",
    "    def read(self):\n",
    "        with open(\"example.txt\",'r') as f:\n",
    "            lines = f.readlines()\n",
    "            for row in lines:\n",
    "                elements = row.split(' ') \n",
    "                self.graph[(elements[0],elements[1])] = int(''.join([ item for item in elements[2] if item.isdigit() ]))\n",
    "            \n",
    "    def print_graph(self):\n",
    "        print(self.graph)\n",
    "        \n",
    "    def print_left_edge(self, vertex = None):\n",
    "        vertex = vertex.lower()\n",
    "        for key, value in self.graph.items():\n",
    "            v1, v2 = key\n",
    "            if vertex == v1.lower(): print(v2)\n",
    "            if vertex == v2.lower(): print(v1)\n",
    "\n",
    "gra = Graph()\n",
    "gra.read()\n",
    "gra.print_graph()\n",
    "gra.print_left_edge(vertex ='a')"
   ]
  },
  {
   "cell_type": "markdown",
   "metadata": {},
   "source": [
    "```\n",
    "xây dựng lớp language model\n",
    "- đầu vào là một file dữ liệu text\n",
    "- \n",
    "```"
   ]
  },
  {
   "cell_type": "code",
   "execution_count": null,
   "metadata": {},
   "outputs": [],
   "source": []
  }
 ],
 "metadata": {
  "kernelspec": {
   "display_name": "Python 3",
   "language": "python",
   "name": "python3"
  },
  "language_info": {
   "codemirror_mode": {
    "name": "ipython",
    "version": 3
   },
   "file_extension": ".py",
   "mimetype": "text/x-python",
   "name": "python",
   "nbconvert_exporter": "python",
   "pygments_lexer": "ipython3",
   "version": "3.7.5"
  }
 },
 "nbformat": 4,
 "nbformat_minor": 2
}
