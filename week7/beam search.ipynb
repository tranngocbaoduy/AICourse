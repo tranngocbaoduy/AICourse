{
 "cells": [
  {
   "cell_type": "code",
   "execution_count": 10,
   "metadata": {},
   "outputs": [],
   "source": [
    "TOTAL = 15\n",
    "map_dict = {\n",
    "    'A':[4,12],\n",
    "    'B':[2,6],\n",
    "    'C':[10,4],\n",
    "    'D':[1,1],\n",
    "    'E':[2,3],\n",
    "    'F':[1,13],\n",
    "    'G':[6,2],\n",
    "    'H':[3,4],\n",
    "    'M':[2,2],\n",
    "    'N':[4,1],\n",
    "}\n",
    "k = 4"
   ]
  },
  {
   "cell_type": "code",
   "execution_count": 11,
   "metadata": {},
   "outputs": [],
   "source": [
    "class State:\n",
    "    global map_dict\n",
    "    def __init__(self, name, value, weight):\n",
    "        self.name = name \n",
    "        self.weight = weight\n",
    "        self.value = value\n",
    "        \n",
    "    def get_value(self):\n",
    "        return self.value\n",
    "\n",
    "    def get_weight(self):\n",
    "        return self.weight\n",
    "     \n",
    "    def print(self):\n",
    "        print(\"name\",self.name,\"value\",self.value,\"weight\",self.weight)\n",
    "        "
   ]
  },
  {
   "cell_type": "code",
   "execution_count": 12,
   "metadata": {},
   "outputs": [
    {
     "name": "stdout",
     "output_type": "stream",
     "text": [
      "value lấy được 10 trọng lượng balo 4\n",
      "\t\tvisited ['C'] possible_state ['N', 'D', 'G', 'M'] \n",
      "\n",
      "value lấy được 16 trọng lượng balo 6\n",
      "\t\tvisited ['C', 'G'] possible_state ['N', 'D', 'M', 'E'] \n",
      "\n",
      "value lấy được 20 trọng lượng balo 7\n",
      "\t\tvisited ['C', 'G', 'N'] possible_state ['D', 'M', 'E', 'H'] \n",
      "\n",
      "value lấy được 23 trọng lượng balo 11\n",
      "\t\tvisited ['C', 'G', 'N', 'H'] possible_state ['D', 'M', 'E'] \n",
      "\n",
      "value lấy được 25 trọng lượng balo 13\n",
      "\t\tvisited ['C', 'G', 'N', 'H', 'M'] possible_state ['D'] \n",
      "\n",
      "value lấy được 26 trọng lượng balo 14\n",
      "\t\tvisited ['C', 'G', 'N', 'H', 'M', 'D'] possible_state [] \n",
      "\n"
     ]
    }
   ],
   "source": [
    "a= State(name='A',value=map_dict['A'][0],weight=map_dict['A'][1])\n",
    "b= State(name='B',value=map_dict['B'][0],weight=map_dict['B'][1])\n",
    "c= State(name='C',value=map_dict['C'][0],weight=map_dict['C'][1])\n",
    "d= State(name='D',value=map_dict['D'][0],weight=map_dict['D'][1])\n",
    "e= State(name='E',value=map_dict['E'][0],weight=map_dict['E'][1])\n",
    "f= State(name='F',value=map_dict['F'][0],weight=map_dict['F'][1])\n",
    "g= State(name='G',value=map_dict['G'][0],weight=map_dict['G'][1])\n",
    "h= State(name='H',value=map_dict['H'][0],weight=map_dict['H'][1])\n",
    "m= State(name='M',value=map_dict['M'][0],weight=map_dict['M'][1])\n",
    "n= State(name='N',value=map_dict['N'][0],weight=map_dict['N'][1])\n",
    "\n",
    "fringe = [a,b,c,d,e,f,g,h,m,n] \n",
    "visited = []\n",
    "def search():\n",
    "    global fringe\n",
    "    while(len(visited)+1 < len(map_dict.items())):\n",
    "        # lấy ra nhỏ nhất  \n",
    "        if(len(fringe)==0):break\n",
    "            \n",
    "        # lấy ra state có VALUE LỚN NHẤT để đi \n",
    "        state = max(fringe, key=lambda x: int(x.value))\n",
    "        visited.append(state.name)  \n",
    "        print(\"value lấy được\",state.get_value(),\"trọng lượng balo\",state.get_weight())\n",
    "        # xoá fringe \n",
    "        fringe = [] \n",
    "        \n",
    "        # tìm ra những state chưa đi \n",
    "        temp = dict(map_dict)\n",
    "        for item in visited:\n",
    "            temp.pop(item, None)\n",
    "            \n",
    "        # tìm next_state có thể đi \n",
    "        # đảm bảo weight <= TOTAL\n",
    "        possible_state = []\n",
    "        for i in range(len(map_dict.items())):\n",
    "            if len(temp.items()) > 0:\n",
    "                # lấy ra state có GIÁ TRỊ LỚN NHẤT ĐỂ đưa vào possible move \n",
    "                name_state_min = max(temp, key=lambda x: map_dict[x][0])\n",
    "                temp.pop(name_state_min, None)  \n",
    "                if state.weight + int(map_dict[name_state_min][1]) <= TOTAL:  \n",
    "                    possible_state.append(name_state_min)\n",
    "            \n",
    "        # sắp xếp theo weight tăng dần \n",
    "        possible_state.sort(key=lambda x: map_dict[x][1] + state.get_weight())\n",
    "        print('\\t\\tvisited',visited,'possible_state',possible_state[:k],'\\n')\n",
    "       \n",
    "        # fringe sẽ chưa K state có thể đi tiếp  \n",
    "        for count, next_state in enumerate(possible_state):   \n",
    "            if count > k: break\n",
    "            fringe.append(State(name=next_state, \n",
    "                                value=map_dict[next_state][0] + state.get_value(), \n",
    "                                weight=map_dict[next_state][1] + state.get_weight()))\n",
    "             \n",
    "\n",
    "search()"
   ]
  },
  {
   "cell_type": "code",
   "execution_count": null,
   "metadata": {},
   "outputs": [],
   "source": []
  },
  {
   "cell_type": "code",
   "execution_count": null,
   "metadata": {},
   "outputs": [],
   "source": []
  },
  {
   "cell_type": "code",
   "execution_count": null,
   "metadata": {},
   "outputs": [],
   "source": []
  },
  {
   "cell_type": "code",
   "execution_count": null,
   "metadata": {},
   "outputs": [],
   "source": []
  }
 ],
 "metadata": {
  "kernelspec": {
   "display_name": "Python 3",
   "language": "python",
   "name": "python3"
  },
  "language_info": {
   "codemirror_mode": {
    "name": "ipython",
    "version": 3
   },
   "file_extension": ".py",
   "mimetype": "text/x-python",
   "name": "python",
   "nbconvert_exporter": "python",
   "pygments_lexer": "ipython3",
   "version": "3.7.5"
  }
 },
 "nbformat": 4,
 "nbformat_minor": 2
}
